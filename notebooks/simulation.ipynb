{
 "cells": [
  {
   "cell_type": "markdown",
   "metadata": {},
   "source": [
    "# Simulation demo notebook\n",
    "\n",
    "In this notebook we walk through how to run a simulation with a very simple intelligence layer and interactions. Please see the README for more information about the simulation configuration script and the intelligence layer (we will not go into detail about the intelligence layer here). Here we will be using the files in `template/example`, and going through main processes that are called when `patient_abm.simulation.run.simulate` is exexcuted (which is the function called by the CLI command `patient_abm simulation run`"
   ]
  },
  {
   "cell_type": "code",
   "execution_count": null,
   "metadata": {},
   "outputs": [],
   "source": [
    "%load_ext autoreload\n",
    "%autoreload 2"
   ]
  },
  {
   "cell_type": "code",
   "execution_count": null,
   "metadata": {},
   "outputs": [],
   "source": [
    "import os\n",
    "from pathlib import Path\n",
    "\n",
    "PATIENT_ABM_DIR = Path(os.getcwd()).parent\n",
    "PATIENT_ABM_DIR"
   ]
  },
  {
   "cell_type": "code",
   "execution_count": null,
   "metadata": {},
   "outputs": [],
   "source": [
    "%env PATIENT_ABM_DIR={str(PATIENT_ABM_DIR)}"
   ]
  },
  {
   "cell_type": "code",
   "execution_count": null,
   "metadata": {},
   "outputs": [],
   "source": [
    "import copy\n",
    "import datetime\n",
    "import json\n",
    "import logging\n",
    "import pprint\n",
    "import uuid\n",
    "from dataclasses import asdict\n",
    "\n",
    "from IPython.display import Image\n",
    "\n",
    "from patient_abm.agent.patient import (\n",
    "    PatientAgent, PatientRecordEntry, wrap_fhir_resource\n",
    ")\n",
    "from patient_abm.log import configure_logger\n",
    "from patient_abm.simulation.initialize import initialize\n",
    "from patient_abm.simulation.run import simulate, run_patient_simulation\n",
    "from patient_abm.utils import string_to_datetime, datetime_to_string"
   ]
  },
  {
   "cell_type": "markdown",
   "metadata": {},
   "source": [
    "# Load config"
   ]
  },
  {
   "cell_type": "code",
   "execution_count": null,
   "metadata": {},
   "outputs": [],
   "source": [
    "config_path = \"../template/example/config.json\""
   ]
  },
  {
   "cell_type": "code",
   "execution_count": null,
   "metadata": {},
   "outputs": [],
   "source": [
    "with open(config_path, \"r\") as f:\n",
    "    config = json.load(f)"
   ]
  },
  {
   "cell_type": "code",
   "execution_count": null,
   "metadata": {},
   "outputs": [],
   "source": [
    "pprint.pprint(config)"
   ]
  },
  {
   "cell_type": "markdown",
   "metadata": {},
   "source": [
    "# Initialise simulation\n",
    "\n",
    "Initialising a simulation involves:\n",
    "- validating the config object (see the `patient_abm.simulation.template.parse_config` function)\n",
    "- loading the patient and agent objects\n",
    "- loading the `intelligence` function handle\n",
    "- creating the interaction name to function handle dictionary `interaction_mapper`\n",
    "- validating and loading all other simulation parameters"
   ]
  },
  {
   "cell_type": "markdown",
   "metadata": {},
   "source": [
    "### A note on the patient and environment agent attributes\n",
    "\n",
    "In the `patient-agent` notebook, we demonstrated how to load the patient agent with comorbidities. The `initialize` function below is not suitable if the patient `conditions` attribute is set. Currently, only patient attributes with simpler data structures are checked in the validation process. For the patient these are given in the `PatientConfig` model in `patient_abm.simulation.template`:\n",
    "\n",
    "``` \n",
    "patient_id\n",
    "gender\n",
    "birth_date\n",
    "start_time\n",
    "name\n",
    "kwargs\n",
    "```\n",
    "\n",
    "We recommend building out the validation module `patient_abm.simulation.template` to handle all patient inputs. And the same goes for the environment.\n"
   ]
  },
  {
   "cell_type": "markdown",
   "metadata": {},
   "source": [
    "Need to update some paths in the config so that they can be located from this notebook"
   ]
  },
  {
   "cell_type": "code",
   "execution_count": null,
   "metadata": {},
   "outputs": [],
   "source": [
    "config['intelligence_dir'] = str(PATIENT_ABM_DIR / config['intelligence_dir'])\n",
    "config['save_dir'] = str(PATIENT_ABM_DIR / config['save_dir'])\n"
   ]
  },
  {
   "cell_type": "code",
   "execution_count": null,
   "metadata": {},
   "outputs": [],
   "source": [
    "(\n",
    "    patients,\n",
    "    environments,\n",
    "    interaction_mapper,\n",
    "    intelligence,\n",
    "    initial_environment_ids,\n",
    "    stopping_condition_kwargs,\n",
    "    log_every,\n",
    "    log_intermediate,\n",
    "    hard_stop,\n",
    "    log_patient_record,\n",
    "    patient_record_duplicate_action,\n",
    "    save_dir,\n",
    "    fhir_server_url,\n",
    ") = initialize(config)"
   ]
  },
  {
   "cell_type": "code",
   "execution_count": null,
   "metadata": {},
   "outputs": [],
   "source": [
    "interaction_mapper"
   ]
  },
  {
   "cell_type": "code",
   "execution_count": null,
   "metadata": {},
   "outputs": [],
   "source": [
    "intelligence"
   ]
  },
  {
   "cell_type": "code",
   "execution_count": null,
   "metadata": {
    "scrolled": true
   },
   "outputs": [],
   "source": [
    "stopping_condition_kwargs"
   ]
  },
  {
   "cell_type": "code",
   "execution_count": null,
   "metadata": {
    "scrolled": true
   },
   "outputs": [],
   "source": [
    "log_every, hard_stop, log_patient_record, str(save_dir)"
   ]
  },
  {
   "cell_type": "code",
   "execution_count": null,
   "metadata": {},
   "outputs": [],
   "source": [
    "initial_environment_ids"
   ]
  },
  {
   "cell_type": "markdown",
   "metadata": {},
   "source": [
    "# Simulate patients one after another "
   ]
  },
  {
   "cell_type": "markdown",
   "metadata": {},
   "source": [
    "Make `len(patients)` copies of the environments to use in every patient simulation"
   ]
  },
  {
   "cell_type": "code",
   "execution_count": null,
   "metadata": {},
   "outputs": [],
   "source": [
    "environments_copies = [\n",
    "    copy.deepcopy(environments) for _ in range(len(patients))\n",
    "]"
   ]
  },
  {
   "cell_type": "markdown",
   "metadata": {},
   "source": [
    "We simply loop over the patients, running a simulation for each one by calling `run_patient_simulation`. Inside `run_patient_simulation` (which is inside the `patient_abm.simulation.run` module) there is a while loop which propagates the simulation. At every step of the while loop:\n",
    "\n",
    "- for every patient, a `simulation_id` is generated, and the outputs for that patient are saved in `save_dir / <simulation_id>`, where `save_dir` is specified in the `config`\n",
    "- the `intelligence` function is called on the `patient` and an `environment` (starting from the `initial_environment_id`\n",
    "- the patient and envinronment `update` methods are called:\n",
    "    - the new patient record entries that are generated by the `intelligence` get added to the existing patient record, and the patient conditions, medications and actions tables are updated\n",
    "    - the environment `patient_interaction_history` attribute is updated\n",
    "- the simulation is logged (if at the correct `log_every` step) to `main.log` and `patient.log`\n",
    "- check for stopping conditions or patient death:\n",
    "    - if either of these are true, then the simulation terminates\n",
    "    - if not, then the next environment is selected, and the loop continues\n",
    "- once the loop terminates, informa the patients and environments are saved as tar files, and a FHIR bundle is generated from the patient record entry."
   ]
  },
  {
   "cell_type": "markdown",
   "metadata": {},
   "source": [
    "### An aside: Updating the patient and agent in the intelligence layer\n",
    "\n",
    "Since every step of the simulation calls the patient and environment update methods, it is not necessary to apply these processes in the intelligence layer. There are however cases when more custom updates are required, for instance, modifying an existing entry in the patient health record, or changing other attributes. See the `death` interaction function in `patient_abm.intelligence.interactions.default` for an example."
   ]
  },
  {
   "cell_type": "markdown",
   "metadata": {},
   "source": [
    "Below runs a simple simulation, normally the simulation would not print so much information, this is simply because we have written the intellignece layer in this way for demonstration purposes."
   ]
  },
  {
   "cell_type": "code",
   "execution_count": null,
   "metadata": {},
   "outputs": [],
   "source": [
    "patient_id_to_agents = {}\n",
    "\n",
    "for patient, environments, initial_environment_id in zip(\n",
    "    patients, environments_copies, initial_environment_ids\n",
    "):\n",
    "\n",
    "    patient, environments, simulation_id = run_patient_simulation(\n",
    "        None,\n",
    "        patient,\n",
    "        environments,\n",
    "        interaction_mapper,\n",
    "        intelligence,\n",
    "        initial_environment_id,\n",
    "        stopping_condition_kwargs,\n",
    "        log_every,\n",
    "        log_intermediate,\n",
    "        hard_stop,\n",
    "        log_patient_record,\n",
    "        patient_record_duplicate_action,\n",
    "        save_dir,\n",
    "        fhir_server_url,\n",
    "    )\n",
    "    patient_id_to_agents[patient.patient_id] = {\n",
    "        \"patient\": patient,\n",
    "        \"envinroments\": environments,\n",
    "        \"simulation_id\": simulation_id,\n",
    "    }\n"
   ]
  },
  {
   "cell_type": "markdown",
   "metadata": {},
   "source": [
    "# Look at logs\n",
    "\n",
    "Let's look at the logs for just a single patient. There are two loggers in the simulation - one for patient specific data and the other for more general simulation data."
   ]
  },
  {
   "cell_type": "code",
   "execution_count": null,
   "metadata": {},
   "outputs": [],
   "source": [
    "simulation_id = patient_id_to_agents[0][\"simulation_id\"]"
   ]
  },
  {
   "cell_type": "code",
   "execution_count": null,
   "metadata": {},
   "outputs": [],
   "source": [
    "patient_log_path = Path(config[\"save_dir\"]) / simulation_id / \"patient.log\"\n",
    "main_log_path = Path(config[\"save_dir\"]) / simulation_id / \"main.log\""
   ]
  },
  {
   "cell_type": "markdown",
   "metadata": {},
   "source": [
    "The log files are written using the python `pythonjsonlogger` library so they are jsonlines files, which makes them really convenient for parsing as the log data can be read in as a list of dictionaries"
   ]
  },
  {
   "cell_type": "code",
   "execution_count": null,
   "metadata": {},
   "outputs": [],
   "source": [
    "patient_log = []\n",
    "with open(patient_log_path, \"r\") as f:\n",
    "    for line in f:\n",
    "        patient_log.append(json.loads(line))\n",
    "        \n",
    "main_log = []\n",
    "with open(main_log_path, \"r\") as f:\n",
    "    for line in f:\n",
    "        main_log.append(json.loads(line))"
   ]
  },
  {
   "cell_type": "markdown",
   "metadata": {},
   "source": [
    "The patient log file contains the usual log file info, plus patient-specific data in the 'patient_state' and 'patient_record_entry' fields. The latter can be omitted if `log_patient_record` is set to false in the `config`. The full patient record is stored in the saved patient object, so nothing data is lost."
   ]
  },
  {
   "cell_type": "code",
   "execution_count": null,
   "metadata": {
    "scrolled": true
   },
   "outputs": [],
   "source": [
    "patient_log[-1]"
   ]
  },
  {
   "cell_type": "markdown",
   "metadata": {},
   "source": [
    "The main logger contains simulation specifics."
   ]
  },
  {
   "cell_type": "code",
   "execution_count": null,
   "metadata": {
    "scrolled": true
   },
   "outputs": [],
   "source": [
    "main_log[-1]"
   ]
  },
  {
   "cell_type": "code",
   "execution_count": null,
   "metadata": {},
   "outputs": [],
   "source": []
  },
  {
   "cell_type": "markdown",
   "metadata": {},
   "source": [
    "# Load saved agents\n",
    "\n",
    "Above we stored the simulated patient and environment objects in a dictionary `patient_id_to_agents`, however when running the simulation via the CLI, we will have to load the saved agent objects. Let's do that here for patient with patient_id=0"
   ]
  },
  {
   "cell_type": "code",
   "execution_count": null,
   "metadata": {},
   "outputs": [],
   "source": [
    "from patient_abm.agent.patient import PatientAgent\n",
    "from patient_abm.agent.environment import (\n",
    "    EnvironmentAgent, GPEnvironmentAgent, AandEEnvironmentAgent\n",
    ")"
   ]
  },
  {
   "cell_type": "code",
   "execution_count": null,
   "metadata": {},
   "outputs": [],
   "source": [
    "environment_types = [x[\"type\"] for x in config[\"environments\"]]"
   ]
  },
  {
   "cell_type": "code",
   "execution_count": null,
   "metadata": {},
   "outputs": [],
   "source": [
    "def load_environment(path, environment_type):\n",
    "    if environment_type == \"a_and_e\":\n",
    "        environment_class = AandEEnvironmentAgent\n",
    "    elif environment_type == \"gp\":\n",
    "        environment_class = GPEnvironmentAgent\n",
    "    else:\n",
    "        environment_class = EnvironmentAgent\n",
    "    \n",
    "    return environment_class.load(path)"
   ]
  },
  {
   "cell_type": "code",
   "execution_count": null,
   "metadata": {},
   "outputs": [],
   "source": [
    "patient_id = 0\n",
    "\n",
    "simulation_id = patient_id_to_agents[patient_id][\"simulation_id\"]\n",
    "\n",
    "_patient = PatientAgent.load(\n",
    "    Path(config[\"save_dir\"]) / simulation_id / \"agents\" / f\"patient_{patient_id}.tar\"\n",
    ")\n",
    "_environments = [\n",
    "    load_environment(\n",
    "        Path(config[\"save_dir\"]) / simulation_id / \"agents\" / f\"environment_{i}.tar\",\n",
    "        environment_types[i]\n",
    "    )\n",
    "    for i in [0,1]\n",
    "]"
   ]
  },
  {
   "cell_type": "markdown",
   "metadata": {},
   "source": [
    "The record is stored in the patient"
   ]
  },
  {
   "cell_type": "code",
   "execution_count": null,
   "metadata": {},
   "outputs": [],
   "source": [
    "for entry in _patient.record:\n",
    "    pprint.pprint(asdict(entry))"
   ]
  },
  {
   "cell_type": "markdown",
   "metadata": {},
   "source": [
    "Was the patient alive at the end of the simulation?"
   ]
  },
  {
   "cell_type": "code",
   "execution_count": null,
   "metadata": {},
   "outputs": [],
   "source": [
    "_patient.alive"
   ]
  },
  {
   "cell_type": "markdown",
   "metadata": {},
   "source": [
    "Were any conditions added?"
   ]
  },
  {
   "cell_type": "code",
   "execution_count": null,
   "metadata": {},
   "outputs": [],
   "source": [
    "_patient.conditions"
   ]
  },
  {
   "cell_type": "markdown",
   "metadata": {},
   "source": [
    "# The patient pathway"
   ]
  },
  {
   "cell_type": "markdown",
   "metadata": {},
   "source": [
    "We can also reconstruct the patient pathway. There are many ways to do this, below we show a simple version"
   ]
  },
  {
   "cell_type": "code",
   "execution_count": null,
   "metadata": {},
   "outputs": [],
   "source": [
    "patient_pathway = [\n",
    "    (\n",
    "        datetime_to_string(entry.patient_time),\n",
    "        environments[entry.environment_id].name,\n",
    "        entry.interactions,\n",
    "    )\n",
    "    for entry in _patient.record\n",
    "    if entry.environment_id not in [-1, None]\n",
    "]"
   ]
  },
  {
   "cell_type": "code",
   "execution_count": null,
   "metadata": {},
   "outputs": [],
   "source": [
    "len(patient_pathway)"
   ]
  },
  {
   "cell_type": "code",
   "execution_count": null,
   "metadata": {},
   "outputs": [],
   "source": [
    "patient_pathway"
   ]
  },
  {
   "cell_type": "markdown",
   "metadata": {},
   "source": [
    "As well as seeing the pathway from the patient's point of view, each environment also holds a history of patient visits in its `patient_interaction_history` attribute, whihc is a dictionary where each key corresponds to the patient_id, and the values visit logs."
   ]
  },
  {
   "cell_type": "code",
   "execution_count": null,
   "metadata": {},
   "outputs": [],
   "source": [
    "_environments[0].patient_interaction_history"
   ]
  },
  {
   "cell_type": "code",
   "execution_count": null,
   "metadata": {
    "scrolled": true
   },
   "outputs": [],
   "source": [
    "_environments[1].patient_interaction_history"
   ]
  },
  {
   "cell_type": "markdown",
   "metadata": {},
   "source": [
    "# The FHIR health record"
   ]
  },
  {
   "cell_type": "markdown",
   "metadata": {},
   "source": [
    "The simulation also generates a FHIR health record (a Bundle resource type) from the patient record. We can view the bundle for the patients"
   ]
  },
  {
   "cell_type": "code",
   "execution_count": null,
   "metadata": {},
   "outputs": [],
   "source": [
    "from patient_abm.data_handler.fhir import FHIRHandler, HAPI_FHIR_SERVER_4"
   ]
  },
  {
   "cell_type": "code",
   "execution_count": null,
   "metadata": {},
   "outputs": [],
   "source": [
    "fhir_handler = FHIRHandler()"
   ]
  },
  {
   "cell_type": "code",
   "execution_count": null,
   "metadata": {},
   "outputs": [],
   "source": [
    "patient_id_to_bundles = {}\n",
    "for patient_id, vals in patient_id_to_agents.items():\n",
    "    fhir_path = Path(config[\"save_dir\"]) / vals[\"simulation_id\"] / \"fhir\" / \"bundle.json\"\n",
    "    patient_id_to_bundles[patient_id] = fhir_handler.load(fhir_path, \"Bundle\", validate=False)"
   ]
  },
  {
   "cell_type": "code",
   "execution_count": null,
   "metadata": {},
   "outputs": [],
   "source": [
    "bundle_0 = patient_id_to_bundles[0]\n",
    "bundle_0"
   ]
  },
  {
   "cell_type": "code",
   "execution_count": null,
   "metadata": {},
   "outputs": [],
   "source": [
    "bundle_1 = patient_id_to_bundles[1]\n",
    "bundle_1"
   ]
  },
  {
   "cell_type": "markdown",
   "metadata": {},
   "source": [
    "We can also validate these bundles using the HAPI FHIR server"
   ]
  },
  {
   "cell_type": "code",
   "execution_count": null,
   "metadata": {},
   "outputs": [],
   "source": [
    "fhir_handler.validate(bundle_0, server_url=HAPI_FHIR_SERVER_4)"
   ]
  },
  {
   "cell_type": "code",
   "execution_count": null,
   "metadata": {},
   "outputs": [],
   "source": [
    "fhir_handler.validate(bundle_1, server_url=HAPI_FHIR_SERVER_4)"
   ]
  },
  {
   "cell_type": "markdown",
   "metadata": {},
   "source": [
    "# Initialising agents with attributes written in a file"
   ]
  },
  {
   "cell_type": "markdown",
   "metadata": {},
   "source": [
    "When we initialised the agents from the config script above, the agent attributes were written directly in the config script. Instead, we can supply a path to a JSON or CSV file contaning the same information."
   ]
  },
  {
   "cell_type": "code",
   "execution_count": null,
   "metadata": {},
   "outputs": [],
   "source": [
    "from patient_abm import PATIENT_ABM_DIR\n",
    "from patient_abm.simulation.template import parse_config\n",
    "from patient_abm.data_handler.base import DataHandler\n",
    "\n",
    "TEST_DATA_DIR = PATIENT_ABM_DIR / \"tests\" / \"data\""
   ]
  },
  {
   "cell_type": "code",
   "execution_count": null,
   "metadata": {},
   "outputs": [],
   "source": [
    "data_handler = DataHandler()"
   ]
  },
  {
   "cell_type": "markdown",
   "metadata": {},
   "source": [
    "### Example 1: Patient and environment data stored in JSON\n",
    "\n",
    "Let's look at the contents of the JSON, it is a list of dictionaries"
   ]
  },
  {
   "cell_type": "code",
   "execution_count": null,
   "metadata": {},
   "outputs": [],
   "source": [
    "patients_json = data_handler.load(TEST_DATA_DIR / \"patients_config.json\")\n",
    "environments_json = data_handler.load(TEST_DATA_DIR / \"environments_config.json\")"
   ]
  },
  {
   "cell_type": "code",
   "execution_count": null,
   "metadata": {},
   "outputs": [],
   "source": [
    "patients_json"
   ]
  },
  {
   "cell_type": "code",
   "execution_count": null,
   "metadata": {},
   "outputs": [],
   "source": [
    "environments_json"
   ]
  },
  {
   "cell_type": "markdown",
   "metadata": {},
   "source": [
    "And we modify the config script so that `patients` and `environments` point to these JSON file paths"
   ]
  },
  {
   "cell_type": "code",
   "execution_count": null,
   "metadata": {},
   "outputs": [],
   "source": [
    "config[\"patients\"] = str(TEST_DATA_DIR / \"patients_config.json\")\n",
    "config[\"environments\"] = str(TEST_DATA_DIR / \"environments_config.json\")"
   ]
  },
  {
   "cell_type": "code",
   "execution_count": null,
   "metadata": {},
   "outputs": [],
   "source": [
    "config"
   ]
  },
  {
   "cell_type": "markdown",
   "metadata": {},
   "source": [
    "Before this is passed to the initialize function, it must be parder"
   ]
  },
  {
   "cell_type": "code",
   "execution_count": null,
   "metadata": {},
   "outputs": [],
   "source": [
    "parsed_config = parse_config(config)"
   ]
  },
  {
   "cell_type": "code",
   "execution_count": null,
   "metadata": {},
   "outputs": [],
   "source": [
    "parsed_config"
   ]
  },
  {
   "cell_type": "markdown",
   "metadata": {},
   "source": [
    "Then we can proceed as before"
   ]
  },
  {
   "cell_type": "code",
   "execution_count": null,
   "metadata": {},
   "outputs": [],
   "source": [
    "(\n",
    "    patients,\n",
    "    environments,\n",
    "    interaction_mapper,\n",
    "    intelligence,\n",
    "    initial_environment_ids,\n",
    "    stopping_condition_kwargs,\n",
    "    log_every,\n",
    "    log_intermediate,\n",
    "    hard_stop,\n",
    "    log_patient_record,\n",
    "    patient_record_duplicate_action,\n",
    "    save_dir,\n",
    "    fhir_server_url,\n",
    ") = initialize(parsed_config)"
   ]
  },
  {
   "cell_type": "markdown",
   "metadata": {},
   "source": [
    "### Example 2: Patient and environment data stored in CSV\n",
    "\n",
    "Let's look at the contents of the CSV"
   ]
  },
  {
   "cell_type": "code",
   "execution_count": null,
   "metadata": {},
   "outputs": [],
   "source": [
    "patients_csv = data_handler.load(TEST_DATA_DIR / \"patients_config.csv\")\n",
    "environments_csv = data_handler.load(TEST_DATA_DIR / \"environments_config.csv\", index_col=0)"
   ]
  },
  {
   "cell_type": "code",
   "execution_count": null,
   "metadata": {},
   "outputs": [],
   "source": [
    "patients_csv"
   ]
  },
  {
   "cell_type": "code",
   "execution_count": null,
   "metadata": {},
   "outputs": [],
   "source": [
    "environments_csv"
   ]
  },
  {
   "cell_type": "markdown",
   "metadata": {},
   "source": [
    "These CSV paths can also be used in the config"
   ]
  },
  {
   "cell_type": "code",
   "execution_count": null,
   "metadata": {},
   "outputs": [],
   "source": [
    "config[\"patients\"] = str(TEST_DATA_DIR / \"patients_config.csv\")\n",
    "config[\"environments\"] = str(TEST_DATA_DIR / \"environments_config.csv\")"
   ]
  },
  {
   "cell_type": "code",
   "execution_count": null,
   "metadata": {},
   "outputs": [],
   "source": [
    "config"
   ]
  },
  {
   "cell_type": "markdown",
   "metadata": {},
   "source": [
    "And we can parse the config and proceed as before"
   ]
  },
  {
   "cell_type": "code",
   "execution_count": null,
   "metadata": {},
   "outputs": [],
   "source": [
    "parsed_config = parse_config(config)"
   ]
  },
  {
   "cell_type": "code",
   "execution_count": null,
   "metadata": {},
   "outputs": [],
   "source": [
    "parsed_config"
   ]
  },
  {
   "cell_type": "markdown",
   "metadata": {},
   "source": [
    "Although methods to parse inputs from both JSON and CSV are implemented, the JSON version is strongly preferred because it represent the true datatypes better. For example, some attributes like enviroments `interactions` are nested objects (a list of strings). This is represented as a string in the CSV and has to be converted to a list of strings during the parsing stage (see `patient_abm.simulation.template.parse_agents_config_from_file`) which could become complex to track in future.\n",
    "\n",
    "In any case, we do recommend developing the functionality `patient_abm.simulation.template` so that more agent attributes can be parsed and validated."
   ]
  },
  {
   "cell_type": "code",
   "execution_count": null,
   "metadata": {},
   "outputs": [],
   "source": []
  }
 ],
 "metadata": {
  "kernelspec": {
   "name": "python3",
   "display_name": "Python 3.7.9 64-bit ('patient_abm-5')",
   "metadata": {
    "interpreter": {
     "hash": "eb86ee10fccc4cebc3e3b1c8c275df9d4de638e6bd2d187b679e0e77d4997aaa"
    }
   }
  },
  "language_info": {
   "codemirror_mode": {
    "name": "ipython",
    "version": 3
   },
   "file_extension": ".py",
   "mimetype": "text/x-python",
   "name": "python",
   "nbconvert_exporter": "python",
   "pygments_lexer": "ipython3",
   "version": "3.7.9-final"
  }
 },
 "nbformat": 4,
 "nbformat_minor": 2
}