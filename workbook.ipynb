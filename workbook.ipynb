{
 "cells": [
  {
   "cell_type": "code",
   "execution_count": 1,
   "source": [
    "%load_ext autoreload\n",
    "%autoreload 2"
   ],
   "outputs": [],
   "metadata": {}
  },
  {
   "cell_type": "code",
   "execution_count": 2,
   "source": [
    "import os\n",
    "import pprint\n",
    "from pathlib import Path"
   ],
   "outputs": [],
   "metadata": {}
  },
  {
   "cell_type": "code",
   "execution_count": 3,
   "source": [
    "%load_ext autoreload\n",
    "%autoreload 2"
   ],
   "outputs": [
    {
     "output_type": "stream",
     "name": "stdout",
     "text": [
      "The autoreload extension is already loaded. To reload it, use:\n",
      "  %reload_ext autoreload\n"
     ]
    }
   ],
   "metadata": {}
  },
  {
   "cell_type": "code",
   "execution_count": 4,
   "source": [
    "import os\n",
    "import pprint\n",
    "from pathlib import Path"
   ],
   "outputs": [],
   "metadata": {}
  },
  {
   "cell_type": "code",
   "execution_count": 5,
   "source": [
    "PATIENT_ABM_DIR = Path(os.getcwd()).parent / \"Synpath\"\n",
    "print(PATIENT_ABM_DIR)\n",
    "%env PATIENT_ABM_DIR={str(PATIENT_ABM_DIR)}"
   ],
   "outputs": [
    {
     "output_type": "stream",
     "name": "stdout",
     "text": [
      "/Users/tiyimorris/Documents/Github/SynPath-fork/Synpath\n",
      "env: PATIENT_ABM_DIR=/Users/tiyimorris/Documents/Github/SynPath-fork/Synpath\n"
     ]
    }
   ],
   "metadata": {}
  },
  {
   "cell_type": "code",
   "execution_count": 6,
   "source": [
    "from patient_abm.agent.patient import PatientAgent\n",
    "from patient_abm.data_handler.base import DataHandler\n",
    "from patient_abm.simulation.initialize import initialize"
   ],
   "outputs": [],
   "metadata": {}
  },
  {
   "cell_type": "code",
   "execution_count": 7,
   "source": [
    "pip install ."
   ],
   "outputs": [
    {
     "output_type": "stream",
     "name": "stdout",
     "text": [
      "Processing /Users/tiyimorris/Documents/Github/SynPath-fork/SynPath\n",
      "\u001b[33m  DEPRECATION: A future pip version will change local packages to be built in-place without first copying to a temporary directory. We recommend you use --use-feature=in-tree-build to test your packages with this new behavior before it becomes the default.\n",
      "   pip 21.3 will remove support for this functionality. You can find discussion regarding this at https://github.com/pypa/pip/issues/7555.\u001b[0m\n",
      "  Installing build dependencies ... \u001b[?25ldone\n",
      "\u001b[?25h  Getting requirements to build wheel ... \u001b[?25ldone\n",
      "\u001b[?25h  Installing backend dependencies ... \u001b[?25ldone\n",
      "\u001b[?25h    Preparing wheel metadata ... \u001b[?25ldone\n",
      "\u001b[?25hRequirement already satisfied: pandas in /opt/anaconda3/envs/spenv/lib/python3.8/site-packages (from patient-abm==0.1.dev71+gb8e0634.d20210824) (1.2.4)\n",
      "Requirement already satisfied: requests in /opt/anaconda3/envs/spenv/lib/python3.8/site-packages (from patient-abm==0.1.dev71+gb8e0634.d20210824) (2.25.1)\n",
      "Requirement already satisfied: pydantic in /opt/anaconda3/envs/spenv/lib/python3.8/site-packages (from patient-abm==0.1.dev71+gb8e0634.d20210824) (1.8.2)\n",
      "Requirement already satisfied: numpy in /opt/anaconda3/envs/spenv/lib/python3.8/site-packages (from patient-abm==0.1.dev71+gb8e0634.d20210824) (1.20.3)\n",
      "Requirement already satisfied: python-json-logger in /opt/anaconda3/envs/spenv/lib/python3.8/site-packages (from patient-abm==0.1.dev71+gb8e0634.d20210824) (2.0.1)\n",
      "Requirement already satisfied: click in /opt/anaconda3/envs/spenv/lib/python3.8/site-packages (from patient-abm==0.1.dev71+gb8e0634.d20210824) (8.0.1)\n",
      "Requirement already satisfied: python-dateutil in /opt/anaconda3/envs/spenv/lib/python3.8/site-packages (from patient-abm==0.1.dev71+gb8e0634.d20210824) (2.8.1)\n",
      "Requirement already satisfied: xmlschema in /opt/anaconda3/envs/spenv/lib/python3.8/site-packages (from patient-abm==0.1.dev71+gb8e0634.d20210824) (1.6.4)\n",
      "Requirement already satisfied: fhir.resources in /opt/anaconda3/envs/spenv/lib/python3.8/site-packages (from patient-abm==0.1.dev71+gb8e0634.d20210824) (6.1.0)\n",
      "Requirement already satisfied: typing-extensions>=3.7.4.3 in /opt/anaconda3/envs/spenv/lib/python3.8/site-packages (from pydantic->patient-abm==0.1.dev71+gb8e0634.d20210824) (3.10.0.0)\n",
      "Requirement already satisfied: email-validator>=1.0.3 in /opt/anaconda3/envs/spenv/lib/python3.8/site-packages (from pydantic->patient-abm==0.1.dev71+gb8e0634.d20210824) (1.1.3)\n",
      "Requirement already satisfied: dnspython>=1.15.0 in /opt/anaconda3/envs/spenv/lib/python3.8/site-packages (from email-validator>=1.0.3->pydantic->patient-abm==0.1.dev71+gb8e0634.d20210824) (2.1.0)\n",
      "Requirement already satisfied: idna>=2.0.0 in /opt/anaconda3/envs/spenv/lib/python3.8/site-packages (from email-validator>=1.0.3->pydantic->patient-abm==0.1.dev71+gb8e0634.d20210824) (2.10)\n",
      "Requirement already satisfied: pytz>=2017.3 in /opt/anaconda3/envs/spenv/lib/python3.8/site-packages (from pandas->patient-abm==0.1.dev71+gb8e0634.d20210824) (2021.1)\n",
      "Requirement already satisfied: six>=1.5 in /opt/anaconda3/envs/spenv/lib/python3.8/site-packages (from python-dateutil->patient-abm==0.1.dev71+gb8e0634.d20210824) (1.16.0)\n",
      "Requirement already satisfied: certifi>=2017.4.17 in /opt/anaconda3/envs/spenv/lib/python3.8/site-packages (from requests->patient-abm==0.1.dev71+gb8e0634.d20210824) (2021.5.30)\n",
      "Requirement already satisfied: urllib3<1.27,>=1.21.1 in /opt/anaconda3/envs/spenv/lib/python3.8/site-packages (from requests->patient-abm==0.1.dev71+gb8e0634.d20210824) (1.26.5)\n",
      "Requirement already satisfied: chardet<5,>=3.0.2 in /opt/anaconda3/envs/spenv/lib/python3.8/site-packages (from requests->patient-abm==0.1.dev71+gb8e0634.d20210824) (4.0.0)\n",
      "Requirement already satisfied: elementpath<3.0.0,>=2.2.2 in /opt/anaconda3/envs/spenv/lib/python3.8/site-packages (from xmlschema->patient-abm==0.1.dev71+gb8e0634.d20210824) (2.2.3)\n",
      "Building wheels for collected packages: patient-abm\n",
      "  Building wheel for patient-abm (PEP 517) ... \u001b[?25ldone\n",
      "\u001b[?25h  Created wheel for patient-abm: filename=patient_abm-0.1.dev71+gb8e0634.d20210824-py2.py3-none-any.whl size=39146 sha256=4c2bf59acac61622fd8ad7c9a558c5be378b5795817e8f75b3f34e138a758f3b\n",
      "  Stored in directory: /private/var/folders/xj/4xmkt2ks6t50t6y4vgvv72y80000gn/T/pip-ephem-wheel-cache-b6suyktl/wheels/e4/a0/f1/e88f2ceacb1b071253d7801081bb985f3513659d45f9e69672\n",
      "Successfully built patient-abm\n",
      "Installing collected packages: patient-abm\n",
      "  Attempting uninstall: patient-abm\n",
      "    Found existing installation: patient-abm 0.1.dev70+g0311d82\n",
      "    Uninstalling patient-abm-0.1.dev70+g0311d82:\n",
      "      Successfully uninstalled patient-abm-0.1.dev70+g0311d82\n",
      "Successfully installed patient-abm-0.1.dev71+gb8e0634.d20210824\n",
      "\u001b[33mWARNING: You are using pip version 21.1.2; however, version 21.2.4 is available.\n",
      "You should consider upgrading via the '/opt/anaconda3/envs/spenv/bin/python -m pip install --upgrade pip' command.\u001b[0m\n",
      "Note: you may need to restart the kernel to use updated packages.\n"
     ]
    }
   ],
   "metadata": {}
  },
  {
   "cell_type": "code",
   "execution_count": 9,
   "source": [
    "export PATIENT_ABM_DIR=\"$(pwd)\""
   ],
   "outputs": [
    {
     "output_type": "error",
     "ename": "SyntaxError",
     "evalue": "invalid syntax (<ipython-input-9-5b949ce325bc>, line 1)",
     "traceback": [
      "\u001b[0;36m  File \u001b[0;32m\"<ipython-input-9-5b949ce325bc>\"\u001b[0;36m, line \u001b[0;32m1\u001b[0m\n\u001b[0;31m    export PATIENT_ABM_DIR=\"$(pwd)\"\u001b[0m\n\u001b[0m           ^\u001b[0m\n\u001b[0;31mSyntaxError\u001b[0m\u001b[0;31m:\u001b[0m invalid syntax\n"
     ]
    }
   ],
   "metadata": {}
  }
 ],
 "metadata": {
  "interpreter": {
   "hash": "87d0a2e7b228928b22cbd778e42887c19d45dc32aec1e8b2ec231e7aa07f8d7f"
  },
  "kernelspec": {
   "name": "python3",
   "display_name": "Python 3.8.10 64-bit ('spenv': conda)"
  },
  "language_info": {
   "name": "python",
   "version": "3.8.10",
   "mimetype": "text/x-python",
   "codemirror_mode": {
    "name": "ipython",
    "version": 3
   },
   "pygments_lexer": "ipython3",
   "nbconvert_exporter": "python",
   "file_extension": ".py"
  },
  "orig_nbformat": 4
 },
 "nbformat": 4,
 "nbformat_minor": 2
}