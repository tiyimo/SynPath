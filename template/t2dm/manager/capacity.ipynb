{
 "cells": [
  {
   "cell_type": "markdown",
   "source": [
    "# Capacity module has to request the patient time from each environment.\n",
    "\n",
    "The capacity needs to be added as a kwargs to each environment and then the model needs to read whether there have been > x patients at that environment at a certain time in the model.\n"
   ],
   "metadata": {}
  },
  {
   "cell_type": "code",
   "execution_count": 6,
   "source": [
    "# Import datetime to use dates and times\n",
    "import datetime"
   ],
   "outputs": [],
   "metadata": {}
  },
  {
   "cell_type": "code",
   "execution_count": 3,
   "source": [
    "# Use the example from the first GP interaction, and find number of patients if next environment is a at time b\n",
    "\n",
    "next_environment_to_prob =  {0: 0.9, 1: 0.1}\n",
    "\n",
    "next_environment_id_to_time = {\n",
    "        0: datetime.timedelta(days=14),\n",
    "        1: datetime.timedelta(days=2),\n",
    "    }"
   ],
   "outputs": [],
   "metadata": {}
  },
  {
   "cell_type": "code",
   "execution_count": 14,
   "source": [
    "next_environment = next_environment_to_prob.keys()\n",
    "time_to_next = next_environment_id_to_time.values()"
   ],
   "outputs": [],
   "metadata": {}
  },
  {
   "cell_type": "code",
   "execution_count": 18,
   "source": [
    "# Pull out the next environment\n",
    "next_environment"
   ],
   "outputs": [
    {
     "output_type": "execute_result",
     "data": {
      "text/plain": [
       "dict_keys([0, 1])"
      ]
     },
     "metadata": {},
     "execution_count": 18
    }
   ],
   "metadata": {}
  },
  {
   "cell_type": "code",
   "execution_count": 17,
   "source": [
    "# Pull out the value for the next time\n",
    "time_to_next"
   ],
   "outputs": [
    {
     "output_type": "execute_result",
     "data": {
      "text/plain": [
       "dict_values([datetime.timedelta(days=14), datetime.timedelta(days=2)])"
      ]
     },
     "metadata": {},
     "execution_count": 17
    }
   ],
   "metadata": {}
  },
  {
   "cell_type": "code",
   "execution_count": null,
   "source": [
    "environment_status = patients.count(time_to_next, next_environment)\n",
    "# needs to read how many patients at the environment at this time point\n",
    "\n",
    "# environment is actually in the template for environments (environment.py) in the templates, but say from the below...\n",
    "environment_capacity=5"
   ],
   "outputs": [
    {
     "output_type": "error",
     "ename": "NameError",
     "evalue": "name 'patients' is not defined",
     "traceback": [
      "\u001b[0;31m---------------------------------------------------------------------------\u001b[0m",
      "\u001b[0;31mNameError\u001b[0m                                 Traceback (most recent call last)",
      "\u001b[0;32m<ipython-input-19-dcf2f5fdc371>\u001b[0m in \u001b[0;36m<module>\u001b[0;34m\u001b[0m\n\u001b[0;32m----> 1\u001b[0;31m \u001b[0menvironment_status\u001b[0m \u001b[0;34m=\u001b[0m \u001b[0mpatients\u001b[0m\u001b[0;34m.\u001b[0m\u001b[0mcount\u001b[0m\u001b[0;34m(\u001b[0m\u001b[0mtime_to_next\u001b[0m\u001b[0;34m,\u001b[0m \u001b[0mnext_environment\u001b[0m\u001b[0;34m)\u001b[0m\u001b[0;34m\u001b[0m\u001b[0;34m\u001b[0m\u001b[0m\n\u001b[0m\u001b[1;32m      2\u001b[0m \u001b[0;34m\u001b[0m\u001b[0m\n",
      "\u001b[0;31mNameError\u001b[0m: name 'patients' is not defined"
     ]
    }
   ],
   "metadata": {}
  },
  {
   "cell_type": "code",
   "execution_count": 20,
   "source": [
    "# function that checks capacity\n",
    "\n",
    "def check_capacity(patient, environment, patient_time):\n",
    "     if environment_status > environment_capacity:\n",
    "         update next_environment_id_to_time = next_environment_id_to_time + datetime.timedelta(days=5) # needs to just be for the one that's full\n"
   ],
   "outputs": [
    {
     "output_type": "error",
     "ename": "SyntaxError",
     "evalue": "invalid syntax (<ipython-input-20-62632d60d9cc>, line 4)",
     "traceback": [
      "\u001b[0;36m  File \u001b[0;32m\"<ipython-input-20-62632d60d9cc>\"\u001b[0;36m, line \u001b[0;32m4\u001b[0m\n\u001b[0;31m    if patient_time = time_to_next and environment_status > environment_capacity:\u001b[0m\n\u001b[0m                    ^\u001b[0m\n\u001b[0;31mSyntaxError\u001b[0m\u001b[0;31m:\u001b[0m invalid syntax\n"
     ]
    }
   ],
   "metadata": {}
  },
  {
   "cell_type": "code",
   "execution_count": null,
   "source": [
    "next_environment_id_to_time"
   ],
   "outputs": [],
   "metadata": {}
  }
 ],
 "metadata": {
  "orig_nbformat": 4,
  "language_info": {
   "name": "python",
   "version": "3.8.10",
   "mimetype": "text/x-python",
   "codemirror_mode": {
    "name": "ipython",
    "version": 3
   },
   "pygments_lexer": "ipython3",
   "nbconvert_exporter": "python",
   "file_extension": ".py"
  },
  "kernelspec": {
   "name": "python3",
   "display_name": "Python 3.8.10 64-bit ('spenv': conda)"
  },
  "interpreter": {
   "hash": "87d0a2e7b228928b22cbd778e42887c19d45dc32aec1e8b2ec231e7aa07f8d7f"
  }
 },
 "nbformat": 4,
 "nbformat_minor": 2
}