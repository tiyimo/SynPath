{
 "cells": [
  {
   "cell_type": "code",
   "execution_count": 1,
   "metadata": {},
   "outputs": [],
   "source": [
    "%load_ext autoreload\n",
    "%autoreload 2"
   ]
  },
  {
   "cell_type": "code",
   "execution_count": 2,
   "metadata": {},
   "outputs": [],
   "source": [
    "import os\n",
    "import pprint\n",
    "from pathlib import Path"
   ]
  },
  {
   "cell_type": "code",
   "execution_count": 3,
   "metadata": {},
   "outputs": [
    {
     "name": "stdout",
     "output_type": "stream",
     "text": [
      "/Users/tiyimorris/Documents/Github/SynPath/template/Synpath\n",
      "env: PATIENT_ABM_DIR=/Users/tiyimorris/Documents/Github/SynPath/template/Synpath\n"
     ]
    }
   ],
   "source": [
    "PATIENT_ABM_DIR = Path(os.getcwd()).parent / \"Synpath\"\n",
    "print(PATIENT_ABM_DIR)\n",
    "%env PATIENT_ABM_DIR={str(PATIENT_ABM_DIR)}"
   ]
  },
  {
   "cell_type": "code",
   "execution_count": 8,
   "metadata": {},
   "outputs": [],
   "source": [
    "from patient_abm.agent.patient import PatientAgent\n",
    "from patient_abm.data_handler.base import DataHandler\n",
    "from patient_abm.simulation.initialize import initialize"
   ]
  },
  {
   "cell_type": "code",
   "execution_count": null,
   "metadata": {},
   "outputs": [],
   "source": []
  }
 ],
 "metadata": {
  "interpreter": {
   "hash": "dca0ade3e726a953b501b15e8e990130d2b7799f14cfd9f4271676035ebe5511"
  },
  "kernelspec": {
   "display_name": "Python 3.8.8 64-bit ('anaconda3': virtualenv)",
   "name": "python3"
  },
  "language_info": {
   "name": "python",
   "version": ""
  },
  "orig_nbformat": 4
 },
 "nbformat": 4,
 "nbformat_minor": 2
}