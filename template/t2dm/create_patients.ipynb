{
 "cells": [
  {
   "cell_type": "code",
   "execution_count": 9,
   "metadata": {},
   "outputs": [],
   "source": [
    "# Create patients.ipynb\n",
    "# Setting up the dictionary to read in the patients csv so that it can be mported in JSON format"
   ]
  },
  {
   "cell_type": "markdown",
   "metadata": {},
   "source": [
    "## Selecting data from columns in the dataframe from csv"
   ]
  },
  {
   "cell_type": "code",
   "execution_count": 20,
   "metadata": {},
   "outputs": [],
   "source": [
    "#Import packages\n",
    "\n",
    "import pandas as pd\n",
    "import numpy as np"
   ]
  },
  {
   "cell_type": "code",
   "execution_count": null,
   "metadata": {},
   "outputs": [],
   "source": [
    "#Option 1- Read csv straight into  dictionary\n",
    "\n",
    "# Don't think this prints the dictionary in the way you want."
   ]
  },
  {
   "cell_type": "code",
   "execution_count": null,
   "metadata": {},
   "outputs": [],
   "source": [
    "\n",
    "#read csv to json\n",
    "\n",
    "patients_dict_from_csv = pd.read_csv('/Users/tiyimorris/Documents/NHSX_project/BN for patients/patients.csv', header=0, index_col=0, squeeze=True,).to_dict()\n",
    "print(patients_dict_from_csv)"
   ]
  },
  {
   "cell_type": "code",
   "execution_count": null,
   "metadata": {},
   "outputs": [],
   "source": [
    "# f-join the variables\n",
    "\n",
    "patient_infos = [\n",
    "    {\n",
    "        \"patient_id\": (f\"{patients_dict_from_csv['id']}\"),\n",
    "        \"gender\": (f\"{patients_dict_from_csv['gender']}\"),\n",
    "        \"birth_date\": (f\"{patients_dict_from_csv['birth_date']}\"),\n",
    "    }\n",
    "]"
   ]
  },
  {
   "cell_type": "code",
   "execution_count": null,
   "metadata": {},
   "outputs": [],
   "source": [
    "#Save dictionary to json (need to install json)\n",
    "\n",
    "with open('x', 'w') as fp:\n",
    "    json.dump(sample, fp)"
   ]
  }
 ],
 "metadata": {
  "interpreter": {
   "hash": "87d0a2e7b228928b22cbd778e42887c19d45dc32aec1e8b2ec231e7aa07f8d7f"
  },
  "kernelspec": {
   "display_name": "Python 3.8.10 64-bit ('spenv': conda)",
   "name": "python3"
  },
  "language_info": {
   "name": "python",
   "version": ""
  },
  "orig_nbformat": 4
 },
 "nbformat": 4,
 "nbformat_minor": 2
}