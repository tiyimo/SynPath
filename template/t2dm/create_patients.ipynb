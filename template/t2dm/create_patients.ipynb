{
 "cells": [
  {
   "cell_type": "markdown",
   "source": [
    "# Create patients.ipynb\n",
    "# Setting up the dictionary to read in the patients csv so that it can be imported in JSON format"
   ],
   "metadata": {}
  },
  {
   "cell_type": "code",
   "execution_count": 2,
   "source": [
    "import pandas as pd\n",
    "import numpy as np\n",
    "import csv\n",
    "import itertools\n",
    "import json\n",
    "import pprint\n",
    "import names\n",
    "def nameGen(gender):\n",
    "    return names.get_full_name(gender=gender)\n",
    "idVars = [\n",
    "    'patient_id',\n",
    "    'age',\n",
    "    'ethnicity',\n",
    "    'gender',\n",
    "    'birth_date',\n",
    "    'name',\n",
    "]\n",
    "observationsVars = [\n",
    "    'durationOfT2DM',\n",
    "    'egfr',\n",
    "    'haemoglobin',\n",
    "    'hba1c',\n",
    "    'hdlCholesterol',\n",
    "    'heartRate',\n",
    "    'height',\n",
    "    'ldlCholesterol',\n",
    "    'systolicBloodPressure',\n",
    "    'wbc',\n",
    "    'weight',\n",
    "]\n",
    "conditionsVars = [\n",
    "    'af',\n",
    "    'albuminuria',\n",
    "    'currentSmoker',\n",
    "    'history_Amputation',\n",
    "    'history_BlindnessOneEye',\n",
    "    'history_CHF',\n",
    "    'history_IHD',\n",
    "    'history_MI',\n",
    "    'history_Stroke',\n",
    "    'pvd',\n",
    "]\n",
    "file = pd.read_csv('./patients.csv') #, parse_dates=conditionsVars)\n",
    "file['name'] = file.apply(lambda x: nameGen(x['gender']),axis=1)\n",
    "core = file[idVars]\n",
    "cond = pd.melt(\n",
    "    file, \n",
    "    id_vars='patient_id', \n",
    "    value_vars=conditionsVars, \n",
    "    var_name='name', \n",
    "    value_name='start'\n",
    ").dropna().groupby('patient_id').apply(\n",
    "    lambda x: x[['name', 'start']].to_dict('records')\n",
    ").reset_index().rename(\n",
    "    columns={0: 'conditions'}\n",
    ")\n",
    "obs = pd.melt(\n",
    "    file, \n",
    "    id_vars='patient_id', \n",
    "    value_vars=observationsVars, \n",
    "    var_name='name', \n",
    "    value_name='value'\n",
    ").dropna().groupby('patient_id').apply(\n",
    "    lambda x: x[['name', 'value']].to_dict('records')\n",
    ").reset_index().rename(\n",
    "    columns={0: 'observations'}\n",
    ")\n",
    "output = core.merge(cond, how='left').merge(obs, how='left').to_json(orient='records')\n",
    "pprint.pprint(json.loads(output)[0: 2])"
   ],
   "outputs": [
    {
     "output_type": "stream",
     "name": "stdout",
     "text": [
      "[{'age': 'youg',\n",
      "  'conditions': None,\n",
      "  'ethnicity': 'a',\n",
      "  'gender': 'm',\n",
      "  'id': 1,\n",
      "  'readings': [{'readingName': 'durationOfT2DM', 'value': 'short'},\n",
      "               {'readingName': 'egfr', 'value': 'high'},\n",
      "               {'readingName': 'haemoglobin', 'value': 'low'},\n",
      "               {'readingName': 'hba1c', 'value': 'high'},\n",
      "               {'readingName': 'hdlCholesterol', 'value': 'high'},\n",
      "               {'readingName': 'heartRate', 'value': 'medium'},\n",
      "               {'readingName': 'height', 'value': 180},\n",
      "               {'readingName': 'ldlCholesterol', 'value': 'high'},\n",
      "               {'readingName': 'systolicBloodPressure', 'value': 'low'},\n",
      "               {'readingName': 'wbc', 'value': 'high'},\n",
      "               {'readingName': 'weight', 'value': 40}]},\n",
      " {'age': 'old',\n",
      "  'conditions': [{'conditionName': 'albuminuria', 'startDate': '01/04/2018'},\n",
      "                 {'conditionName': 'currentSmoker', 'startDate': '01/04/2018'},\n",
      "                 {'conditionName': 'history_BlindnessOneEye',\n",
      "                  'startDate': '01/04/2018'},\n",
      "                 {'conditionName': 'history_CHF', 'startDate': '01/04/2018'},\n",
      "                 {'conditionName': 'history_IHD', 'startDate': '01/04/2018'}],\n",
      "  'ethnicity': 'a',\n",
      "  'gender': 'f',\n",
      "  'id': 2,\n",
      "  'readings': [{'readingName': 'durationOfT2DM', 'value': 'short'},\n",
      "               {'readingName': 'egfr', 'value': 'high'},\n",
      "               {'readingName': 'haemoglobin', 'value': 'medium'},\n",
      "               {'readingName': 'hba1c', 'value': 'high'},\n",
      "               {'readingName': 'hdlCholesterol', 'value': 'high'},\n",
      "               {'readingName': 'heartRate', 'value': 'high'},\n",
      "               {'readingName': 'height', 'value': 180},\n",
      "               {'readingName': 'ldlCholesterol', 'value': 'high'},\n",
      "               {'readingName': 'systolicBloodPressure', 'value': 'high'},\n",
      "               {'readingName': 'wbc', 'value': 'high'},\n",
      "               {'readingName': 'weight', 'value': 40}]}]\n"
     ]
    }
   ],
   "metadata": {}
  },
  {
   "cell_type": "code",
   "execution_count": 3,
   "source": [
    "json_output = json.loads(output)\n",
    "json_output[0:2]\n"
   ],
   "outputs": [
    {
     "output_type": "execute_result",
     "data": {
      "text/plain": [
       "[{'id': 1,\n",
       "  'age': 'youg',\n",
       "  'ethnicity': 'a',\n",
       "  'gender': 'm',\n",
       "  'conditions': None,\n",
       "  'readings': [{'readingName': 'durationOfT2DM', 'value': 'short'},\n",
       "   {'readingName': 'egfr', 'value': 'high'},\n",
       "   {'readingName': 'haemoglobin', 'value': 'low'},\n",
       "   {'readingName': 'hba1c', 'value': 'high'},\n",
       "   {'readingName': 'hdlCholesterol', 'value': 'high'},\n",
       "   {'readingName': 'heartRate', 'value': 'medium'},\n",
       "   {'readingName': 'height', 'value': 180},\n",
       "   {'readingName': 'ldlCholesterol', 'value': 'high'},\n",
       "   {'readingName': 'systolicBloodPressure', 'value': 'low'},\n",
       "   {'readingName': 'wbc', 'value': 'high'},\n",
       "   {'readingName': 'weight', 'value': 40}]},\n",
       " {'id': 2,\n",
       "  'age': 'old',\n",
       "  'ethnicity': 'a',\n",
       "  'gender': 'f',\n",
       "  'conditions': [{'conditionName': 'albuminuria', 'startDate': '01/04/2018'},\n",
       "   {'conditionName': 'currentSmoker', 'startDate': '01/04/2018'},\n",
       "   {'conditionName': 'history_BlindnessOneEye', 'startDate': '01/04/2018'},\n",
       "   {'conditionName': 'history_CHF', 'startDate': '01/04/2018'},\n",
       "   {'conditionName': 'history_IHD', 'startDate': '01/04/2018'}],\n",
       "  'readings': [{'readingName': 'durationOfT2DM', 'value': 'short'},\n",
       "   {'readingName': 'egfr', 'value': 'high'},\n",
       "   {'readingName': 'haemoglobin', 'value': 'medium'},\n",
       "   {'readingName': 'hba1c', 'value': 'high'},\n",
       "   {'readingName': 'hdlCholesterol', 'value': 'high'},\n",
       "   {'readingName': 'heartRate', 'value': 'high'},\n",
       "   {'readingName': 'height', 'value': 180},\n",
       "   {'readingName': 'ldlCholesterol', 'value': 'high'},\n",
       "   {'readingName': 'systolicBloodPressure', 'value': 'high'},\n",
       "   {'readingName': 'wbc', 'value': 'high'},\n",
       "   {'readingName': 'weight', 'value': 40}]}]"
      ]
     },
     "metadata": {},
     "execution_count": 3
    }
   ],
   "metadata": {}
  },
  {
   "cell_type": "code",
   "execution_count": 4,
   "source": [
    "json.maxItemsComputed = 20000"
   ],
   "outputs": [],
   "metadata": {}
  },
  {
   "cell_type": "code",
   "execution_count": null,
   "source": [
    "for ii in range(0, 10000):\n",
    "    if json_output[ii]['conditions'] != None: \n",
    "        for jj in range(0, len(json_output[ii]['conditions'])):\n",
    "            json_output[ii]['conditions'][jj-1]['real_start_time'] = json_output[ii]['conditions'][jj-1]['start']\n",
    "            json_output[ii]['conditions'][jj-1]['end'] = False\n",
    "            json_output[ii]['conditions'][jj-1]['real_end_time'] = False\n",
    "            json_output[ii]['conditions'][jj-1]['active'] = None\n",
    "            json_output[ii]['conditions'][jj-1]['count'] = 1\n",
    "            json_output[ii]['conditions'][jj-1]['record_index'] = 0\n",
    "            json_output[ii]['conditions'][jj-1]['code'] = '99999999'\n",
    "            \n",
    "for ii in range(0, 10000):\n",
    "    if json_output[ii]['observations'] != None: \n",
    "        for jj in range(0, len(json_output[ii]['observations'])):\n",
    "            json_output[ii]['observations'][jj-1]['start'] = '01/04/2021'\n",
    "            json_output[ii]['observations'][jj-1]['end'] = False\n",
    "            json_output[ii]['observations'][jj-1]['code'] = '19191919'"
   ],
   "outputs": [],
   "metadata": {}
  },
  {
   "cell_type": "code",
   "execution_count": 6,
   "source": [
    "with open('./patient_infos.json', 'w') as jsonFile:\n",
    "    # make it more readable\n",
    "    jsonFile.write(json.dumps(json_output, indent=4))"
   ],
   "outputs": [],
   "metadata": {}
  }
 ],
 "metadata": {
  "interpreter": {
   "hash": "87d0a2e7b228928b22cbd778e42887c19d45dc32aec1e8b2ec231e7aa07f8d7f"
  },
  "kernelspec": {
   "name": "python3",
   "display_name": "Python 3.8.10 64-bit ('spenv': conda)"
  },
  "language_info": {
   "name": "python",
   "version": "3.8.10",
   "mimetype": "text/x-python",
   "codemirror_mode": {
    "name": "ipython",
    "version": 3
   },
   "pygments_lexer": "ipython3",
   "nbconvert_exporter": "python",
   "file_extension": ".py"
  },
  "orig_nbformat": 4
 },
 "nbformat": 4,
 "nbformat_minor": 2
}